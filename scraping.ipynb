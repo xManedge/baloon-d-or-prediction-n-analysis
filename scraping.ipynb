{
 "cells": [
  {
   "cell_type": "code",
   "execution_count": 40,
   "id": "initial_id",
   "metadata": {
    "collapsed": true,
    "ExecuteTime": {
     "end_time": "2024-03-02T23:30:27.328118Z",
     "start_time": "2024-03-02T23:30:25.811916Z"
    }
   },
   "outputs": [],
   "source": [
    "import re \n",
    "import time\n",
    "\n",
    "import pandas as pd\n",
    "from selenium import webdriver\n",
    "from selenium.webdriver.support.ui import WebDriverWait\n",
    "from selenium.webdriver.common.by import By\n",
    "from selenium.webdriver.support import expected_conditions as EC"
   ]
  },
  {
   "cell_type": "markdown",
   "source": [
    "# Scraping \n",
    "* Get dataframe gets all information from the tables and parses into a dataframe. \n",
    "* Exceptions: 'percent' is the metric used in 2013-2015 years, the table column is replaced with points however the metric is still stored as a percent only for 2013-2015\n",
    "* The year 2022 has a weird structure and a seperate function had to be written \n",
    "\n",
    "## 2022 \n",
    "* The structure of this table is different, the function aims to scrape the data and return it in the structure suitable for appending "
   ],
   "metadata": {
    "collapsed": false
   },
   "id": "bf8811a034bec3fa"
  },
  {
   "cell_type": "code",
   "execution_count": 220,
   "outputs": [],
   "source": [
    "# functions for scraping data \n",
    "def get_dataframe(driver, page, year): \n",
    "    if year == 2022: \n",
    "        return get_dataframe_for_2022(driver, page)\n",
    "    \n",
    "    wait = WebDriverWait(driver=driver, timeout=10)\n",
    "    driver.get(page)\n",
    "    tabular_data = wait.until(EC.presence_of_element_located((By.CLASS_NAME, 'table-responsive')))\n",
    "    error = []\n",
    "    for idx,record in enumerate(tabular_data.find_elements(By.TAG_NAME, 'tr')): \n",
    "        if not(idx):\n",
    "            data = pd.DataFrame(columns=record.text.strip().split('\\n')[-4:] + ['year','ranking'])\n",
    "            if 'Percent' in data.columns: \n",
    "                data = data.rename(columns={'Percent':'Points'})\n",
    "            continue\n",
    "        try:\n",
    "            data.loc[len(data)] = record.text.strip().split('\\n')[-4:] + [year] + [idx]\n",
    "        except: \n",
    "            error.append(record.text.strip().split('\\n') + [year] +  [idx])\n",
    "            \n",
    "    return data, error\n",
    "\n",
    "def get_dataframe_for_2022(driver, page, year=2022):\n",
    "    wait = WebDriverWait(driver=driver, timeout=10)\n",
    "    driver.get(page)\n",
    "    tabular_data = wait.until(EC.presence_of_element_located((By.CLASS_NAME, 'table-responsive')))\n",
    "    error = []\n",
    "    for idx,record in enumerate(tabular_data.find_elements(By.TAG_NAME, 'tr')):\n",
    "        if not(idx): \n",
    "            columns = record.text.strip().split('\\n')[-5:] + ['year', 'ranking']\n",
    "            columns.remove('Position')\n",
    "            data = pd.DataFrame(columns=columns)\n",
    "            continue\n",
    "        try:\n",
    "            record_list = record.text.strip().split('\\n')\n",
    "            if '/' in record_list[4]:\n",
    "                record_list[4] += record_list[5]\n",
    "                record_list.remove(record_list[5])\n",
    "            record_list = [record_list[1]] + record_list[3:]\n",
    "            data.loc[len(data)] = record_list + [year] + [idx]\n",
    "        except:\n",
    "            record_list = record.text.strip().split('\\n')\n",
    "            record_list = [record_list[1]] + record_list[3:]\n",
    "            error.append(record_list + [year] +  [idx])\n",
    "\n",
    "    return data, error    \n",
    "            \n",
    "    "
   ],
   "metadata": {
    "collapsed": false,
    "ExecuteTime": {
     "end_time": "2024-03-03T01:39:03.253504Z",
     "start_time": "2024-03-03T01:39:03.240414Z"
    }
   },
   "id": "857a3413edeb06e5"
  },
  {
   "cell_type": "code",
   "execution_count": 227,
   "outputs": [],
   "source": [
    "driver.quit()\n",
    "driver = (webdriver.Safari())\n",
    "data = pd.DataFrame()\n",
    "errors = []\n",
    "for year in range(1956,2024):\n",
    "    if year == 2020: \n",
    "        continue \n",
    "    page = f'https://www.topendsports.com/sport/soccer/awards/ballondor-{str(year)}.htm' \n",
    "    yeardata, error = get_dataframe(driver, page, year)\n",
    "    errors.append(error) if error else errors\n",
    "    data = pd.concat([data, yeardata])\n",
    "    time.sleep(0.5)\n",
    "driver.quit()"
   ],
   "metadata": {
    "collapsed": false,
    "ExecuteTime": {
     "end_time": "2024-03-03T02:13:34.601652Z",
     "start_time": "2024-03-03T02:12:06.242318Z"
    }
   },
   "id": "4a2ac8237d77d1b5"
  },
  {
   "cell_type": "code",
   "execution_count": 230,
   "outputs": [
    {
     "data": {
      "text/plain": "                  Player                       Club   Nationality Points  \\\n0       Stanley Matthews                  Blackpool       England     47   \n1     Alfredo Di Stéfano                Real Madrid         Spain     44   \n2           Raymond Kopa       Reims /  Real Madrid        France     33   \n3          Ferenc Puskás            Budapest Honvéd       Hungary     32   \n4             Lev Yashin              Dynamo Moscow  Soviet Union     19   \n...                  ...                        ...           ...    ...   \n1944       Jamal Musiala              Bayern Munich       Germany      0   \n1945      Nicolo Barella                Inter Milan         Italy      0   \n1946   Randal Kolo Muani  Eintracht Frankfurt / PSG        France      0   \n1947     Martin Odegaard                    Arsenal        Norway      0   \n1948          Ruben Dias                   Man City      Portugal      0   \n\n      year  ranking  \n0     1956        1  \n1     1956        2  \n2     1956        3  \n3     1956        4  \n4     1956        5  \n...    ...      ...  \n1944  2023       26  \n1945  2023       27  \n1946  2023       28  \n1947  2023       29  \n1948  2023       30  \n\n[1949 rows x 6 columns]",
      "text/html": "<div>\n<style scoped>\n    .dataframe tbody tr th:only-of-type {\n        vertical-align: middle;\n    }\n\n    .dataframe tbody tr th {\n        vertical-align: top;\n    }\n\n    .dataframe thead th {\n        text-align: right;\n    }\n</style>\n<table border=\"1\" class=\"dataframe\">\n  <thead>\n    <tr style=\"text-align: right;\">\n      <th></th>\n      <th>Player</th>\n      <th>Club</th>\n      <th>Nationality</th>\n      <th>Points</th>\n      <th>year</th>\n      <th>ranking</th>\n    </tr>\n  </thead>\n  <tbody>\n    <tr>\n      <th>0</th>\n      <td>Stanley Matthews</td>\n      <td>Blackpool</td>\n      <td>England</td>\n      <td>47</td>\n      <td>1956</td>\n      <td>1</td>\n    </tr>\n    <tr>\n      <th>1</th>\n      <td>Alfredo Di Stéfano</td>\n      <td>Real Madrid</td>\n      <td>Spain</td>\n      <td>44</td>\n      <td>1956</td>\n      <td>2</td>\n    </tr>\n    <tr>\n      <th>2</th>\n      <td>Raymond Kopa</td>\n      <td>Reims /  Real Madrid</td>\n      <td>France</td>\n      <td>33</td>\n      <td>1956</td>\n      <td>3</td>\n    </tr>\n    <tr>\n      <th>3</th>\n      <td>Ferenc Puskás</td>\n      <td>Budapest Honvéd</td>\n      <td>Hungary</td>\n      <td>32</td>\n      <td>1956</td>\n      <td>4</td>\n    </tr>\n    <tr>\n      <th>4</th>\n      <td>Lev Yashin</td>\n      <td>Dynamo Moscow</td>\n      <td>Soviet Union</td>\n      <td>19</td>\n      <td>1956</td>\n      <td>5</td>\n    </tr>\n    <tr>\n      <th>...</th>\n      <td>...</td>\n      <td>...</td>\n      <td>...</td>\n      <td>...</td>\n      <td>...</td>\n      <td>...</td>\n    </tr>\n    <tr>\n      <th>1944</th>\n      <td>Jamal Musiala</td>\n      <td>Bayern Munich</td>\n      <td>Germany</td>\n      <td>0</td>\n      <td>2023</td>\n      <td>26</td>\n    </tr>\n    <tr>\n      <th>1945</th>\n      <td>Nicolo Barella</td>\n      <td>Inter Milan</td>\n      <td>Italy</td>\n      <td>0</td>\n      <td>2023</td>\n      <td>27</td>\n    </tr>\n    <tr>\n      <th>1946</th>\n      <td>Randal Kolo Muani</td>\n      <td>Eintracht Frankfurt / PSG</td>\n      <td>France</td>\n      <td>0</td>\n      <td>2023</td>\n      <td>28</td>\n    </tr>\n    <tr>\n      <th>1947</th>\n      <td>Martin Odegaard</td>\n      <td>Arsenal</td>\n      <td>Norway</td>\n      <td>0</td>\n      <td>2023</td>\n      <td>29</td>\n    </tr>\n    <tr>\n      <th>1948</th>\n      <td>Ruben Dias</td>\n      <td>Man City</td>\n      <td>Portugal</td>\n      <td>0</td>\n      <td>2023</td>\n      <td>30</td>\n    </tr>\n  </tbody>\n</table>\n<p>1949 rows × 6 columns</p>\n</div>"
     },
     "execution_count": 230,
     "metadata": {},
     "output_type": "execute_result"
    }
   ],
   "source": [
    "data.reset_index(inplace=True)\n",
    "data.drop(columns=['index'], inplace=True)\n",
    "data"
   ],
   "metadata": {
    "collapsed": false,
    "ExecuteTime": {
     "end_time": "2024-03-03T02:17:44.517395Z",
     "start_time": "2024-03-03T02:17:44.513482Z"
    }
   },
   "id": "1cad64b6d0eaf0e0"
  },
  {
   "cell_type": "code",
   "execution_count": 231,
   "outputs": [
    {
     "data": {
      "text/plain": "                  Player                       Club   Nationality Points  \\\n0       Stanley Matthews                  Blackpool       England     47   \n1     Alfredo Di Stéfano                Real Madrid         Spain     44   \n2           Raymond Kopa       Reims /  Real Madrid        France     33   \n3          Ferenc Puskás            Budapest Honvéd       Hungary     32   \n4             Lev Yashin              Dynamo Moscow  Soviet Union     19   \n...                  ...                        ...           ...    ...   \n1944       Jamal Musiala              Bayern Munich       Germany      0   \n1945      Nicolo Barella                Inter Milan         Italy      0   \n1946   Randal Kolo Muani  Eintracht Frankfurt / PSG        France      0   \n1947     Martin Odegaard                    Arsenal        Norway      0   \n1948          Ruben Dias                   Man City      Portugal      0   \n\n      year  ranking  \n0     1956        1  \n1     1956        2  \n2     1956        3  \n3     1956        4  \n4     1956        5  \n...    ...      ...  \n1944  2023       26  \n1945  2023       27  \n1946  2023       28  \n1947  2023       29  \n1948  2023       30  \n\n[1949 rows x 6 columns]",
      "text/html": "<div>\n<style scoped>\n    .dataframe tbody tr th:only-of-type {\n        vertical-align: middle;\n    }\n\n    .dataframe tbody tr th {\n        vertical-align: top;\n    }\n\n    .dataframe thead th {\n        text-align: right;\n    }\n</style>\n<table border=\"1\" class=\"dataframe\">\n  <thead>\n    <tr style=\"text-align: right;\">\n      <th></th>\n      <th>Player</th>\n      <th>Club</th>\n      <th>Nationality</th>\n      <th>Points</th>\n      <th>year</th>\n      <th>ranking</th>\n    </tr>\n  </thead>\n  <tbody>\n    <tr>\n      <th>0</th>\n      <td>Stanley Matthews</td>\n      <td>Blackpool</td>\n      <td>England</td>\n      <td>47</td>\n      <td>1956</td>\n      <td>1</td>\n    </tr>\n    <tr>\n      <th>1</th>\n      <td>Alfredo Di Stéfano</td>\n      <td>Real Madrid</td>\n      <td>Spain</td>\n      <td>44</td>\n      <td>1956</td>\n      <td>2</td>\n    </tr>\n    <tr>\n      <th>2</th>\n      <td>Raymond Kopa</td>\n      <td>Reims /  Real Madrid</td>\n      <td>France</td>\n      <td>33</td>\n      <td>1956</td>\n      <td>3</td>\n    </tr>\n    <tr>\n      <th>3</th>\n      <td>Ferenc Puskás</td>\n      <td>Budapest Honvéd</td>\n      <td>Hungary</td>\n      <td>32</td>\n      <td>1956</td>\n      <td>4</td>\n    </tr>\n    <tr>\n      <th>4</th>\n      <td>Lev Yashin</td>\n      <td>Dynamo Moscow</td>\n      <td>Soviet Union</td>\n      <td>19</td>\n      <td>1956</td>\n      <td>5</td>\n    </tr>\n    <tr>\n      <th>...</th>\n      <td>...</td>\n      <td>...</td>\n      <td>...</td>\n      <td>...</td>\n      <td>...</td>\n      <td>...</td>\n    </tr>\n    <tr>\n      <th>1944</th>\n      <td>Jamal Musiala</td>\n      <td>Bayern Munich</td>\n      <td>Germany</td>\n      <td>0</td>\n      <td>2023</td>\n      <td>26</td>\n    </tr>\n    <tr>\n      <th>1945</th>\n      <td>Nicolo Barella</td>\n      <td>Inter Milan</td>\n      <td>Italy</td>\n      <td>0</td>\n      <td>2023</td>\n      <td>27</td>\n    </tr>\n    <tr>\n      <th>1946</th>\n      <td>Randal Kolo Muani</td>\n      <td>Eintracht Frankfurt / PSG</td>\n      <td>France</td>\n      <td>0</td>\n      <td>2023</td>\n      <td>28</td>\n    </tr>\n    <tr>\n      <th>1947</th>\n      <td>Martin Odegaard</td>\n      <td>Arsenal</td>\n      <td>Norway</td>\n      <td>0</td>\n      <td>2023</td>\n      <td>29</td>\n    </tr>\n    <tr>\n      <th>1948</th>\n      <td>Ruben Dias</td>\n      <td>Man City</td>\n      <td>Portugal</td>\n      <td>0</td>\n      <td>2023</td>\n      <td>30</td>\n    </tr>\n  </tbody>\n</table>\n<p>1949 rows × 6 columns</p>\n</div>"
     },
     "execution_count": 231,
     "metadata": {},
     "output_type": "execute_result"
    }
   ],
   "source": [
    "data[['Player','Club','Nationality']] = data[['Player','Club','Nationality']].map(lambda x: re.sub('\\\\xa0',' ',x))\n",
    "data"
   ],
   "metadata": {
    "collapsed": false,
    "ExecuteTime": {
     "end_time": "2024-03-03T02:18:09.022972Z",
     "start_time": "2024-03-03T02:18:09.012473Z"
    }
   },
   "id": "e7bf21e52439c639"
  },
  {
   "cell_type": "code",
   "execution_count": 232,
   "outputs": [],
   "source": [
    "data.to_csv(path_or_buf='./datasets/winnersList.csv', index=False)"
   ],
   "metadata": {
    "collapsed": false,
    "ExecuteTime": {
     "end_time": "2024-03-03T02:19:50.826108Z",
     "start_time": "2024-03-03T02:19:50.807581Z"
    }
   },
   "id": "23e43f8188efc238"
  },
  {
   "cell_type": "markdown",
   "source": [
    "# improvements\n",
    "* scrape the feminine baloon d or list too  "
   ],
   "metadata": {
    "collapsed": false
   },
   "id": "ccbe89bf4acbca0f"
  }
 ],
 "metadata": {
  "kernelspec": {
   "display_name": "Python 3",
   "language": "python",
   "name": "python3"
  },
  "language_info": {
   "codemirror_mode": {
    "name": "ipython",
    "version": 2
   },
   "file_extension": ".py",
   "mimetype": "text/x-python",
   "name": "python",
   "nbconvert_exporter": "python",
   "pygments_lexer": "ipython2",
   "version": "2.7.6"
  }
 },
 "nbformat": 4,
 "nbformat_minor": 5
}
